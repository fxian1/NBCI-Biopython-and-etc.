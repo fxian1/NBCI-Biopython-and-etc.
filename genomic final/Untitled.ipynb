{
 "cells": [
  {
   "cell_type": "code",
   "execution_count": 1,
   "metadata": {},
   "outputs": [
    {
     "name": "stdout",
     "output_type": "stream",
     "text": [
      "Please Enter FASTA file name: python/programs/genomic final/dna2.fasta\n",
      "Please Enter 1, 2, 3 for frame, or 4 for all frames: 4\n",
      "I/O error(2): No such file or directory\n"
     ]
    },
    {
     "ename": "UnboundLocalError",
     "evalue": "local variable 'seq_list' referenced before assignment",
     "output_type": "error",
     "traceback": [
      "\u001b[0;31m---------------------------------------------------------------------------\u001b[0m",
      "\u001b[0;31mUnboundLocalError\u001b[0m                         Traceback (most recent call last)",
      "\u001b[0;32m<ipython-input-1-b0090dee35a9>\u001b[0m in \u001b[0;36m<module>\u001b[0;34m\u001b[0m\n\u001b[1;32m     58\u001b[0m \u001b[0;34m\u001b[0m\u001b[0m\n\u001b[1;32m     59\u001b[0m \u001b[0;32mif\u001b[0m \u001b[0m__name__\u001b[0m \u001b[0;34m==\u001b[0m \u001b[0;34m\"__main__\"\u001b[0m\u001b[0;34m:\u001b[0m\u001b[0;34m\u001b[0m\u001b[0;34m\u001b[0m\u001b[0m\n\u001b[0;32m---> 60\u001b[0;31m         \u001b[0mmain\u001b[0m\u001b[0;34m(\u001b[0m\u001b[0;34m)\u001b[0m\u001b[0;34m\u001b[0m\u001b[0;34m\u001b[0m\u001b[0m\n\u001b[0m",
      "\u001b[0;32m<ipython-input-1-b0090dee35a9>\u001b[0m in \u001b[0;36mmain\u001b[0;34m()\u001b[0m\n\u001b[1;32m     36\u001b[0m         \u001b[0mfile_orf\u001b[0m \u001b[0;34m=\u001b[0m \u001b[0;34m{\u001b[0m\u001b[0;34m}\u001b[0m\u001b[0;34m\u001b[0m\u001b[0;34m\u001b[0m\u001b[0m\n\u001b[1;32m     37\u001b[0m         \u001b[0;32mif\u001b[0m \u001b[0mframe\u001b[0m \u001b[0;34m==\u001b[0m \u001b[0;36m4\u001b[0m\u001b[0;34m:\u001b[0m\u001b[0;34m\u001b[0m\u001b[0;34m\u001b[0m\u001b[0m\n\u001b[0;32m---> 38\u001b[0;31m                 \u001b[0;32mfor\u001b[0m \u001b[0mseq\u001b[0m \u001b[0;32min\u001b[0m \u001b[0mseq_list\u001b[0m\u001b[0;34m:\u001b[0m\u001b[0;34m\u001b[0m\u001b[0;34m\u001b[0m\u001b[0m\n\u001b[0m\u001b[1;32m     39\u001b[0m                         \u001b[0;32mfor\u001b[0m \u001b[0mi\u001b[0m \u001b[0;32min\u001b[0m \u001b[0mrange\u001b[0m\u001b[0;34m(\u001b[0m\u001b[0;36m1\u001b[0m\u001b[0;34m,\u001b[0m\u001b[0;36m4\u001b[0m\u001b[0;34m)\u001b[0m\u001b[0;34m:\u001b[0m\u001b[0;34m\u001b[0m\u001b[0;34m\u001b[0m\u001b[0m\n\u001b[1;32m     40\u001b[0m                                 \u001b[0morf\u001b[0m \u001b[0;34m=\u001b[0m \u001b[0mfind_ORFs\u001b[0m\u001b[0;34m(\u001b[0m\u001b[0mseq_list\u001b[0m\u001b[0;34m[\u001b[0m\u001b[0mseq\u001b[0m\u001b[0;34m]\u001b[0m\u001b[0;34m,\u001b[0m\u001b[0mi\u001b[0m\u001b[0;34m,\u001b[0m\u001b[0mseq\u001b[0m\u001b[0;34m)\u001b[0m\u001b[0;34m\u001b[0m\u001b[0;34m\u001b[0m\u001b[0m\n",
      "\u001b[0;31mUnboundLocalError\u001b[0m: local variable 'seq_list' referenced before assignment"
     ]
    }
   ],
   "source": [
    "#!/anaconda3/bin/python\n",
    "\n",
    "from fasta_functions import *\n",
    "import sys\n",
    "\n",
    "def main():\n",
    "\tfilename = input('Please Enter FASTA file name: ')\n",
    "\tframe = input('Please Enter 1, 2, 3 for frame, or 4 for all frames: ')\n",
    "\n",
    "\ttry:\n",
    "\t\tframe = int(frame)\n",
    "\texcept TypeError:\n",
    "\t\tsys.stderr.write('Invalid frame entered')\n",
    "\t\tframe = 1\n",
    "\n",
    "\tif not isinstance(filename, str):\n",
    "\t\tsys.stderr.write('Invalid Filename entered')\n",
    "\t\treturn 1\n",
    "\tif frame > 4:\n",
    "\t\tsys.stderr.write('Invalid frame entered')\n",
    "\t\treturn 2\n",
    "\n",
    "\ttry:\n",
    "\t\tf = open(filename)\n",
    "\t\tseq_list = make_dict(f)\n",
    "\t\tf.close()\n",
    "\texcept IOError as e:\n",
    "\t\terrno, strerror = e.args\n",
    "\t\tprint(\"I/O error({0}): {1}\".format(errno,strerror))\n",
    "\texcept ValueError:\n",
    "\t\tprint(\"No valid integer in line.\")\n",
    "\texcept:\n",
    "\t\tprint(\"Unexpected error:\", sys.exc_info()[0])\n",
    "\t\traise\n",
    "\n",
    "\tfile_orf = {}\n",
    "\tif frame == 4:\n",
    "\t\tfor seq in seq_list:\n",
    "\t\t\tfor i in range(1,4):\n",
    "\t\t\t\torf = find_ORFs(seq_list[seq],i,seq)\n",
    "\t\t\t\tif orf is not None:\n",
    "\t\t\t\t\tfile_orf.update(orf)\n",
    "\telse:\n",
    "\t\tfor seq in seq_list:\n",
    "\t\t\torf = find_ORFs(seq_list[seq],frame,seq)\n",
    "\t\t\tif orf is not None:\n",
    "\t\t\t\tfile_orf.update(orf)\n",
    "\n",
    "\tf = open('max_orf.txt','w')\n",
    "\torf_sort = {}\n",
    "\tfor orf in file_orf:\n",
    "\t\torf_sort[len(orf)] = orf + ' ' + str(file_orf[orf])\n",
    "\torf_sorted = sorted(orf_sort)\n",
    "\tf.write(\"Longest ORF Sequence: %s \\nLength: %d \\n\"\n",
    "\t\t% (orf_sort[orf_sorted[-1]], orf_sorted[-1]))\n",
    "\tf.close()\n",
    "\treturn 0\n",
    "\n",
    "if __name__ == \"__main__\":\n",
    "\tmain()\n"
   ]
  },
  {
   "cell_type": "code",
   "execution_count": null,
   "metadata": {},
   "outputs": [],
   "source": []
  }
 ],
 "metadata": {
  "kernelspec": {
   "display_name": "Python 3",
   "language": "python",
   "name": "python3"
  },
  "language_info": {
   "codemirror_mode": {
    "name": "ipython",
    "version": 3
   },
   "file_extension": ".py",
   "mimetype": "text/x-python",
   "name": "python",
   "nbconvert_exporter": "python",
   "pygments_lexer": "ipython3",
   "version": "3.7.3"
  }
 },
 "nbformat": 4,
 "nbformat_minor": 2
}
